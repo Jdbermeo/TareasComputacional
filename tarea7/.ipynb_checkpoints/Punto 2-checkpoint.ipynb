{
 "metadata": {
  "name": ""
 },
 "nbformat": 3,
 "nbformat_minor": 0,
 "worksheets": [
  {
   "cells": [
    {
     "cell_type": "code",
     "collapsed": false,
     "input": [
      "%pylab inline"
     ],
     "language": "python",
     "metadata": {},
     "outputs": [
      {
       "output_type": "stream",
       "stream": "stdout",
       "text": [
        "Populating the interactive namespace from numpy and matplotlib\n"
       ]
      }
     ],
     "prompt_number": 2
    },
    {
     "cell_type": "code",
     "collapsed": false,
     "input": [
      "n_x = 200\n",
      "c = 1.0\n",
      "dx = 2.0/n_x\n",
      "beta = 0.001\n",
      "dt = beta*dx \n",
      "n_t = int(0.15/dt) \n",
      "x = linspace(0, 2.0, n_x)\n",
      "X = np.array(x)\n",
      "u = 3.0*sin(pi*x)\n",
      "t = linspace(0, 0.15, n_t)\n",
      "T = np.array(t)\n",
      "plot(x,u)\n",
      "print n_t"
     ],
     "language": "python",
     "metadata": {},
     "outputs": [
      {
       "output_type": "stream",
       "stream": "stdout",
       "text": [
        "14999\n"
       ]
      },
      {
       "metadata": {},
       "output_type": "display_data",
       "png": "[encoded data removed]",
       "text": [
        "<matplotlib.figure.Figure at 0x1cfaadcc>"
       ]
      }
     ],
     "prompt_number": 17
    },
    {
     "cell_type": "code",
     "collapsed": false,
     "input": [
      "for n in range(n_t):  # loop over time\n",
      "    u_p = u.copy() \n",
      "    for i in range(1,n_x-1): #loop over space\n",
      "        u[i] = u_p[i] - (beta/4)*((u_p[i+1])**2 - (u_p[i-1])**2) + ((beta**2)/8)*((u_p[i+1] + u_p[i])*((u_p[i+1])**2 - (u_p[i])**2)- (u_p[i] + u_p[i-1])*((u_p[i]**2) - (u_p[i-1])**2))\n",
      "\n",
      "plot(x,u)"
     ],
     "language": "python",
     "metadata": {},
     "outputs": [],
     "prompt_number": "*"
    },
    {
     "cell_type": "code",
     "collapsed": false,
     "input": [],
     "language": "python",
     "metadata": {},
     "outputs": []
    }
   ],
   "metadata": {}
  }
 ]
}