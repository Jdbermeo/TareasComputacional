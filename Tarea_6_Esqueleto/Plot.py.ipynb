{
 "metadata": {
  "name": ""
 },
 "nbformat": 3,
 "nbformat_minor": 0,
 "worksheets": [
  {
   "cells": [
    {
     "cell_type": "code",
     "collapsed": false,
     "input": [
      "%pylab inline"
     ],
     "language": "python",
     "metadata": {},
     "outputs": [
      {
       "output_type": "stream",
       "stream": "stdout",
       "text": [
        "Populating the interactive namespace from numpy and matplotlib\n"
       ]
      }
     ],
     "prompt_number": 2
    },
    {
     "cell_type": "code",
     "collapsed": false,
     "input": [
      "#!/usr/bin/python\n",
      "# -*- coding: latin-1 -*-\n",
      "import math\n",
      "import matplotlib.pyplot as plt\n",
      "import numpy as np\n",
      "import sys,codecs\n",
      "\n",
      "\"\"\"\n",
      "Programa que grafica archivos de texto con datos.\n",
      "Autores: Oscar Fernando Garzon-Juan Diego Bermeo\n",
      "Fecha: Martes 29 de Octubre de 2013.\n",
      "\"\"\"\n",
      "\"\"\"\n",
      "Carga los datos desde un archivo \"file\"y los Grafica.\n",
      "\"\"\"\n",
      "\n",
      "\n",
      "\"\"\"Comenzamos cargando los datos.\"\"\"\n",
      "\n",
      "def Cargar_Datos():\n",
      "    \"\"\"Funcion que carga todos los archivos que estran como parametro para graficar sin importar su numero\"\"\"\n",
      "    \n",
      "def GraficarGalaxias():\n",
      "    \"\"\"Plotea todos los datos sin importar el numero de archivos que entran como parametro\"\"\"\n",
      "Cargar_Datos()\n",
      "\n",
      "GraficarGalaxias()\n"
     ],
     "language": "python",
     "metadata": {},
     "outputs": [],
     "prompt_number": 4
    },
    {
     "cell_type": "code",
     "collapsed": false,
     "input": [],
     "language": "python",
     "metadata": {},
     "outputs": []
    }
   ],
   "metadata": {}
  }
 ]
}