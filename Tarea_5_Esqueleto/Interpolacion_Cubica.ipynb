{
 "metadata": {
  "name": ""
 },
 "nbformat": 3,
 "nbformat_minor": 0,
 "worksheets": [
  {
   "cells": [
    {
     "cell_type": "code",
     "collapsed": false,
     "input": [
      "import numpy as np\n",
      "from scipy.fftpack import fft, fftfreq,ifft\n",
      "import matplotlib.pyplot as plt\n",
      "from scipy.interpolate import interp1d\n",
      "%pylab inline\n",
      "data = np.loadtxt(\"sparse_sample_monthrg.dat\")\n",
      "#Crea un nuevo array\n",
      "n = 0\n",
      "for i in range(2000,len(data)):\n",
      "    if(n==0):\n",
      "        if(data[i,3]!=-99.0):\n",
      "            medicion = data[i,:]\n",
      "            n = -1\n",
      "    else:  \n",
      "        if(data[i,3]!=-99.0):\n",
      "            medicion = np.vstack([medicion, data[i,:]])"
     ],
     "language": "python",
     "metadata": {},
     "outputs": [
      {
       "output_type": "stream",
       "stream": "stdout",
       "text": [
        "Populating the interactive namespace from numpy and matplotlib\n"
       ]
      },
      {
       "output_type": "stream",
       "stream": "stderr",
       "text": [
        "WARNING: pylab import has clobbered these variables: ['fft', 'ifft']\n",
        "`%pylab --no-import-all` prevents importing * from pylab and numpy\n"
       ]
      }
     ],
     "prompt_number": 2
    },
    {
     "cell_type": "code",
     "collapsed": false,
     "input": [
      "#Acomoda la escala de tiempo a a\u00f1os para cada medicion\n",
      "for i in range(0,len(medicion)):\n",
      "    medicion[i,2] = (medicion[i,1]/12.0)+medicion[i,0]-1610\n",
      "    \n",
      "np.savetxt(\"datoslimpios.txt\",medicion,\"%s\")"
     ],
     "language": "python",
     "metadata": {},
     "outputs": [],
     "prompt_number": 3
    },
    {
     "cell_type": "code",
     "collapsed": false,
     "input": [
      "f = interp1d(medicion[:,2],medicion[:,3],'cubic')"
     ],
     "language": "python",
     "metadata": {},
     "outputs": [],
     "prompt_number": 5
    },
    {
     "cell_type": "code",
     "collapsed": false,
     "input": [],
     "language": "python",
     "metadata": {},
     "outputs": []
    }
   ],
   "metadata": {}
  }
 ]
}