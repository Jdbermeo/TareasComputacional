{
 "metadata": {
  "name": ""
 },
 "nbformat": 3,
 "nbformat_minor": 0,
 "worksheets": [
  {
   "cells": [
    {
     "cell_type": "code",
     "collapsed": false,
     "input": [
      "import numpy as np\n",
      "from scipy.fftpack import fft, fftfreq,ifft\n",
      "import matplotlib.pyplot as plt\n",
      "from scipy.interpolate import interp1d\n",
      "\n",
      "data = np.loadtxt(\"sparse_sample_monthrg.dat\")\n",
      "#Crea un nuevo arreglo de numpy donde solo estan los meses en los que se realizaron mediciones\n",
      "n = 0\n",
      "for i in range(0,len(data)):\n",
      "    if(n==0):\n",
      "        if(data[i,3]!=-99.0):\n",
      "            medicion = data[i,:]\n",
      "            n = -1\n",
      "    else:\n",
      "        if(data[i,3]!=-99.0):\n",
      "            medicion = np.vstack([medicion, data[i,:]])\n",
      "\n",
      "#Acomoda la escala de tiempo a a\u00f1os para cada medicion\n",
      "for i in range(0,len(medicion)):\n",
      "    medicion[i,2] = (medicion[i,1]/12.0)+medicion[i,0]-1610\n",
      "    \n",
      "np.savetxt(\"datoslimpios.txt\",medicion,\"%s\")\n",
      "\n",
      "#Lleva a cabo el proceso de interpolacion lineal\n",
      "funcion_interp_lineal = interp1d(medicion[:,2],medicion[:,3],kind = 'linear')\n",
      "\n"
     ],
     "language": "python",
     "metadata": {},
     "outputs": [],
     "prompt_number": 4
    },
    {
     "cell_type": "code",
     "collapsed": false,
     "input": [],
     "language": "python",
     "metadata": {},
     "outputs": []
    }
   ],
   "metadata": {}
  }
 ]
}