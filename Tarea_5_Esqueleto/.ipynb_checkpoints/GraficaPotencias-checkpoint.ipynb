{
 "metadata": {
  "name": ""
 },
 "nbformat": 3,
 "nbformat_minor": 0,
 "worksheets": [
  {
   "cells": [
    {
     "cell_type": "code",
     "collapsed": false,
     "input": [
      "import numpy as np\n",
      "from scipy.fftpack import fft, fftfreq,ifft\n",
      "import matplotlib.pyplot as plt\n",
      "from scipy.interpolate import interp1d\n",
      "\n",
      "data = np.loadtxt(\"datosTransConstante.txt\")\n",
      "mediciones = data[:,1]\n",
      "dt = 1/12.0\n",
      "fft_x_Const = fft(mediciones)\n",
      "fft_x_Const = fft_x/len(mediciones)\n",
      "freqConst = fftfreq(len(mediciones), dt)\n",
      "\n",
      "data = np.loadtxt(\"datosTransLin.txt\")\n",
      "mediciones = data[:,1]\n",
      "dt = 1/12.0\n",
      "fft_x_Linn = fft(mediciones)\n",
      "fft_x_Linn = fft_x/len(mediciones)\n",
      "freqLin = fftfreq(len(mediciones), dt)"
     ],
     "language": "python",
     "metadata": {},
     "outputs": [],
     "prompt_number": 1
    },
    {
     "cell_type": "code",
     "collapsed": false,
     "input": [],
     "language": "python",
     "metadata": {},
     "outputs": []
    }
   ],
   "metadata": {}
  }
 ]
}